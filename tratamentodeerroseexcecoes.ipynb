{
 "cells": [
  {
   "cell_type": "code",
   "execution_count": null,
   "metadata": {},
   "outputs": [],
   "source": [
    "#como tratar erros e exceções em python\n",
    "try:\n",
    "    8 + 's'\n",
    "except TypeError:\n",
    "    print('Operação não permitida')"
   ]
  },
  {
   "cell_type": "code",
   "execution_count": null,
   "metadata": {},
   "outputs": [],
   "source": [
    "try:\n",
    "    f = open('arquivos/testandoerros.txt', 'w')\n",
    "    f.write('Gravando no arquivo')\n",
    "except IOError:\n",
    "    print('Erro: arquivo não encontrado ou não pode ser salvo')\n",
    "else:\n",
    "    print('Conteúdo gravado com sucesso!')"
   ]
  },
  {
   "cell_type": "code",
   "execution_count": null,
   "metadata": {},
   "outputs": [],
   "source": [
    "try:\n",
    "    f = open('arquivos/testandoerros', 'r') #arquivo digitado sem a extensão, vai dar erro\n",
    "except IOError:\n",
    "    print('Erro: arquivo não encontrado ou não pode ser lido')\n",
    "else:\n",
    "    print('Conteúdo gravado com sucesso!')\n",
    "    f.close()"
   ]
  },
  {
   "cell_type": "code",
   "execution_count": null,
   "metadata": {},
   "outputs": [],
   "source": [
    "#try, except, else e finally\n",
    "\n",
    "try:\n",
    "    f = open('arquivos/testandoerros.txt', 'w')\n",
    "    f.write('Gravando no arquivo')\n",
    "except IOError:\n",
    "    print('Erro: arquivo não encontrado ou não pode ser salvo')\n",
    "else:\n",
    "    print('Conteúdo gravado com sucesso!')\n",
    "    f.close()\n",
    "finally:\n",
    "    print('Comandos do bloco finally são sempre executados!')"
   ]
  },
  {
   "cell_type": "code",
   "execution_count": null,
   "metadata": {},
   "outputs": [],
   "source": [
    "#é importante prever erros para melhorar a experiência do usuário\n",
    "\n",
    "def askint():\n",
    "    while True:\n",
    "        try:\n",
    "            val = int(input('Digite um número: '))\n",
    "        except:\n",
    "            print('Você não digitou um número!')\n",
    "        else:\n",
    "            print('Obrigada por digitar um número!')\n",
    "            break\n",
    "        finally:\n",
    "            print('Fim')\n",
    "        print(val)"
   ]
  }
 ],
 "metadata": {
  "kernelspec": {
   "display_name": "meuambiente",
   "language": "python",
   "name": "python3"
  },
  "language_info": {
   "codemirror_mode": {
    "name": "ipython",
    "version": 3
   },
   "file_extension": ".py",
   "mimetype": "text/x-python",
   "name": "python",
   "nbconvert_exporter": "python",
   "pygments_lexer": "ipython3",
   "version": "3.9.13"
  }
 },
 "nbformat": 4,
 "nbformat_minor": 2
}
