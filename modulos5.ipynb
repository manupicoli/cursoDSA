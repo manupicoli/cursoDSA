{
 "cells": [
  {
   "cell_type": "code",
   "execution_count": null,
   "id": "b1aaca57",
   "metadata": {},
   "outputs": [],
   "source": [
    "import os\n",
    "import numpy\n",
    "filename = os.path.join('dataset.csv')"
   ]
  },
  {
   "cell_type": "code",
   "execution_count": null,
   "id": "d318068e",
   "metadata": {},
   "outputs": [],
   "source": [
    "!more dataset.csv"
   ]
  },
  {
   "cell_type": "code",
   "execution_count": null,
   "id": "7f51ee19",
   "metadata": {},
   "outputs": [],
   "source": [
    "#Carregando um dataset para dentro de um array\n",
    "import numpy \n",
    "\n",
    "#passa o nome do arquivo, o delimitador (nesse caso, as vírgulas), as colunas desejadas (usecols) \n",
    "#e as linhas que deseja pular (skiprows)\n",
    "arr13 = numpy.loadtxt(filename, delimiter = ',', usecols = (0, 1, 2, 3), skiprows = 1)"
   ]
  },
  {
   "cell_type": "code",
   "execution_count": null,
   "id": "b8feff74",
   "metadata": {},
   "outputs": [],
   "source": [
    "#para carregar, por exemplo, apenas duas variáveis\n",
    "#unpack serve para descompactar, criando dois arrays\n",
    "\n",
    "var1, var2 = numpy.loadtxt(filename, delimiter = ',', usecols = (0, 1), skiprows = 1, unpack = True)"
   ]
  },
  {
   "cell_type": "code",
   "execution_count": null,
   "id": "1185a2c3",
   "metadata": {},
   "outputs": [],
   "source": [
    "#matplotlib é uma biblioteca gráfica para a linguagem python\n",
    "\n",
    "import matplotlib.pyplot as plt\n",
    "\n",
    "#'o' vai ser o símbolo, markersize define o tamanho do símbolo e color a cor\n",
    "\n",
    "plt.show(plt.plot(var1, var2, 'o', markersize = 6, color = 'red'))"
   ]
  }
 ],
 "metadata": {
  "kernelspec": {
   "display_name": "Python 3 (ipykernel)",
   "language": "python",
   "name": "python3"
  },
  "language_info": {
   "codemirror_mode": {
    "name": "ipython",
    "version": 3
   },
   "file_extension": ".py",
   "mimetype": "text/x-python",
   "name": "python",
   "nbconvert_exporter": "python",
   "pygments_lexer": "ipython3",
   "version": "3.9.13"
  }
 },
 "nbformat": 4,
 "nbformat_minor": 5
}
