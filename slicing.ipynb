{
 "cells": [
  {
   "cell_type": "code",
   "execution_count": 1,
   "id": "b1b61f9f",
   "metadata": {},
   "outputs": [],
   "source": [
    "import numpy\n",
    "\n",
    "arr22 = numpy.diag(numpy.arange(3))"
   ]
  },
  {
   "cell_type": "code",
   "execution_count": 2,
   "id": "5e2ca699",
   "metadata": {},
   "outputs": [
    {
     "name": "stdout",
     "output_type": "stream",
     "text": [
      "[[0 0 0]\n",
      " [0 1 0]\n",
      " [0 0 2]]\n"
     ]
    }
   ],
   "source": [
    "print(arr22)"
   ]
  },
  {
   "cell_type": "code",
   "execution_count": 3,
   "id": "ceee4293",
   "metadata": {},
   "outputs": [],
   "source": [
    "#comparação item a item\n",
    "\n",
    "a = numpy.array([1, 2, 3, 4])\n",
    "b = numpy.array([4, 2, 2, 4])"
   ]
  },
  {
   "cell_type": "code",
   "execution_count": 4,
   "id": "71a1de87",
   "metadata": {},
   "outputs": [
    {
     "data": {
      "text/plain": [
       "array([False,  True, False,  True])"
      ]
     },
     "execution_count": 4,
     "metadata": {},
     "output_type": "execute_result"
    }
   ],
   "source": [
    "a == b"
   ]
  },
  {
   "cell_type": "code",
   "execution_count": 5,
   "id": "24096ccf",
   "metadata": {},
   "outputs": [
    {
     "data": {
      "text/plain": [
       "False"
      ]
     },
     "execution_count": 5,
     "metadata": {},
     "output_type": "execute_result"
    }
   ],
   "source": [
    "#comparação global\n",
    "\n",
    "numpy.array_equal(a, b)"
   ]
  },
  {
   "cell_type": "code",
   "execution_count": 7,
   "id": "da5ef04e",
   "metadata": {},
   "outputs": [
    {
     "data": {
      "text/plain": [
       "array([2.5, 3.5, 4.5])"
      ]
     },
     "execution_count": 7,
     "metadata": {},
     "output_type": "execute_result"
    }
   ],
   "source": [
    "#somando um valor a cada elemento do array\n",
    "\n",
    "numpy.array([1, 2, 3]) + 1.5"
   ]
  },
  {
   "cell_type": "code",
   "execution_count": 9,
   "id": "c97362e7",
   "metadata": {},
   "outputs": [],
   "source": [
    "arr24 = numpy.array([1.2, 1.5, 1.6, 2.5, 3.5, 4.5])"
   ]
  },
  {
   "cell_type": "code",
   "execution_count": 11,
   "id": "6a795da3",
   "metadata": {},
   "outputs": [],
   "source": [
    "#arredondando os valores do array\n",
    "\n",
    "arr25 = numpy.around(arr24)"
   ]
  },
  {
   "cell_type": "code",
   "execution_count": 12,
   "id": "6ccbb807",
   "metadata": {},
   "outputs": [
    {
     "name": "stdout",
     "output_type": "stream",
     "text": [
      "[1. 2. 2. 2. 4. 4.]\n"
     ]
    }
   ],
   "source": [
    "print(arr25)"
   ]
  },
  {
   "cell_type": "code",
   "execution_count": 14,
   "id": "6d3798b2",
   "metadata": {},
   "outputs": [],
   "source": [
    "#método flatten\n",
    "#convertendo um objeto bidimensional em um unidimensional\n",
    "\n",
    "arr26 = numpy.array([[1, 2, 3, 4], [5, 6, 7, 8]])"
   ]
  },
  {
   "cell_type": "code",
   "execution_count": 15,
   "id": "e86a5bbf",
   "metadata": {},
   "outputs": [],
   "source": [
    "arr27 = arr26.flatten()"
   ]
  },
  {
   "cell_type": "code",
   "execution_count": 16,
   "id": "8a9ccead",
   "metadata": {},
   "outputs": [
    {
     "name": "stdout",
     "output_type": "stream",
     "text": [
      "[1 2 3 4 5 6 7 8]\n"
     ]
    }
   ],
   "source": [
    "print(arr27)"
   ]
  },
  {
   "cell_type": "code",
   "execution_count": 17,
   "id": "79cff87c",
   "metadata": {},
   "outputs": [
    {
     "data": {
      "text/plain": [
       "array([1, 1, 1, 2, 2, 2, 3, 3, 3])"
      ]
     },
     "execution_count": 17,
     "metadata": {},
     "output_type": "execute_result"
    }
   ],
   "source": [
    "arr28 = numpy.array([1, 2, 3])\n",
    "\n",
    "#repete os elementos do array\n",
    "numpy.repeat(arr28, 3)"
   ]
  },
  {
   "cell_type": "code",
   "execution_count": 18,
   "id": "5bc6b90b",
   "metadata": {},
   "outputs": [
    {
     "data": {
      "text/plain": [
       "array([1, 2, 3, 1, 2, 3, 1, 2, 3])"
      ]
     },
     "execution_count": 18,
     "metadata": {},
     "output_type": "execute_result"
    }
   ],
   "source": [
    "#repete a combinação inteira do array\n",
    "numpy.tile(arr28, 3)"
   ]
  },
  {
   "cell_type": "code",
   "execution_count": 19,
   "id": "52d044f7",
   "metadata": {},
   "outputs": [],
   "source": [
    "arr29 = numpy.array([1, 2])"
   ]
  },
  {
   "cell_type": "code",
   "execution_count": 20,
   "id": "4cdef23c",
   "metadata": {},
   "outputs": [],
   "source": [
    "arr30 = numpy.copy(arr29)"
   ]
  },
  {
   "cell_type": "code",
   "execution_count": 21,
   "id": "7df8fcdf",
   "metadata": {},
   "outputs": [
    {
     "name": "stdout",
     "output_type": "stream",
     "text": [
      "[1 2]\n"
     ]
    }
   ],
   "source": [
    "print(arr30)"
   ]
  }
 ],
 "metadata": {
  "kernelspec": {
   "display_name": "Python 3 (ipykernel)",
   "language": "python",
   "name": "python3"
  },
  "language_info": {
   "codemirror_mode": {
    "name": "ipython",
    "version": 3
   },
   "file_extension": ".py",
   "mimetype": "text/x-python",
   "name": "python",
   "nbconvert_exporter": "python",
   "pygments_lexer": "ipython3",
   "version": "3.9.13"
  }
 },
 "nbformat": 4,
 "nbformat_minor": 5
}
