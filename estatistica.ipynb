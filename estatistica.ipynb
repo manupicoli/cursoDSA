{
 "cells": [
  {
   "cell_type": "code",
   "execution_count": 1,
   "id": "7741f1e8",
   "metadata": {},
   "outputs": [
    {
     "data": {
      "text/plain": [
       "54.0"
      ]
     },
     "execution_count": 1,
     "metadata": {},
     "output_type": "execute_result"
    }
   ],
   "source": [
    "import numpy\n",
    "\n",
    "arr14 = numpy.array = ([15, 23, 63, 94, 75])\n",
    "\n",
    "#calculando a media\n",
    "\n",
    "numpy.mean(arr14)"
   ]
  },
  {
   "cell_type": "code",
   "execution_count": 2,
   "id": "1969c16f",
   "metadata": {},
   "outputs": [
    {
     "data": {
      "text/plain": [
       "30.34468652004828"
      ]
     },
     "execution_count": 2,
     "metadata": {},
     "output_type": "execute_result"
    }
   ],
   "source": [
    "#tecnicas para tratamento de valores extremos\n",
    "#desvio padrão = indica quanto os valores se afastam da média\n",
    "#exemplo: desvio padrão alto = dados dispersos\n",
    "#para calcular:\n",
    "\n",
    "numpy.std(arr14)"
   ]
  },
  {
   "cell_type": "code",
   "execution_count": 3,
   "id": "4dbbfaf5",
   "metadata": {},
   "outputs": [
    {
     "data": {
      "text/plain": [
       "920.8"
      ]
     },
     "execution_count": 3,
     "metadata": {},
     "output_type": "execute_result"
    }
   ],
   "source": [
    "#para calcular variância:\n",
    "\n",
    "numpy.var(arr14)"
   ]
  }
 ],
 "metadata": {
  "kernelspec": {
   "display_name": "Python 3 (ipykernel)",
   "language": "python",
   "name": "python3"
  },
  "language_info": {
   "codemirror_mode": {
    "name": "ipython",
    "version": 3
   },
   "file_extension": ".py",
   "mimetype": "text/x-python",
   "name": "python",
   "nbconvert_exporter": "python",
   "pygments_lexer": "ipython3",
   "version": "3.9.13"
  }
 },
 "nbformat": 4,
 "nbformat_minor": 5
}
