{
 "cells": [
  {
   "cell_type": "code",
   "execution_count": 2,
   "id": "420b9e9d",
   "metadata": {},
   "outputs": [
    {
     "name": "stdout",
     "output_type": "stream",
     "text": [
      "[1 2 3 4 5 6 7 8 9]\n"
     ]
    }
   ],
   "source": [
    "import numpy\n",
    "\n",
    "arr15 = numpy.arange(1, 10)\n",
    "\n",
    "print(arr15)"
   ]
  },
  {
   "cell_type": "code",
   "execution_count": 3,
   "id": "6a39e2b3",
   "metadata": {},
   "outputs": [
    {
     "data": {
      "text/plain": [
       "45"
      ]
     },
     "execution_count": 3,
     "metadata": {},
     "output_type": "execute_result"
    }
   ],
   "source": [
    "#soma:\n",
    "numpy.sum(arr15)"
   ]
  },
  {
   "cell_type": "code",
   "execution_count": 4,
   "id": "ea9447e3",
   "metadata": {},
   "outputs": [
    {
     "data": {
      "text/plain": [
       "362880"
      ]
     },
     "execution_count": 4,
     "metadata": {},
     "output_type": "execute_result"
    }
   ],
   "source": [
    "#produto\n",
    "numpy.prod(arr15)"
   ]
  },
  {
   "cell_type": "code",
   "execution_count": 5,
   "id": "14f7dd5a",
   "metadata": {},
   "outputs": [
    {
     "data": {
      "text/plain": [
       "array([ 1,  3,  6, 10, 15, 21, 28, 36, 45])"
      ]
     },
     "execution_count": 5,
     "metadata": {},
     "output_type": "execute_result"
    }
   ],
   "source": [
    "#soma acumulada\n",
    "numpy.cumsum(arr15)"
   ]
  },
  {
   "cell_type": "code",
   "execution_count": 6,
   "id": "46024277",
   "metadata": {},
   "outputs": [
    {
     "name": "stdout",
     "output_type": "stream",
     "text": [
      "[4 4 4]\n"
     ]
    }
   ],
   "source": [
    "#soma de arrays\n",
    "arr16 = numpy.array([3, 2, 1])\n",
    "arr17 = numpy.array([1, 2, 3])\n",
    "\n",
    "arr18 = numpy.add(arr16, arr17)\n",
    "\n",
    "print(arr18)"
   ]
  },
  {
   "cell_type": "code",
   "execution_count": 7,
   "id": "86dba55b",
   "metadata": {},
   "outputs": [],
   "source": [
    "#multiplicar elementos de matrizes\n",
    "arr19 = numpy.array([[1, 2], [3, 4]])\n",
    "arr20 = numpy.array([[5, 6], [0, 7]])\n",
    "\n",
    "arr21 = numpy.dot(arr19, arr20)"
   ]
  },
  {
   "cell_type": "code",
   "execution_count": 8,
   "id": "de06777c",
   "metadata": {},
   "outputs": [
    {
     "name": "stdout",
     "output_type": "stream",
     "text": [
      "[[ 5 20]\n",
      " [15 46]]\n"
     ]
    }
   ],
   "source": [
    "print(arr21)"
   ]
  },
  {
   "cell_type": "code",
   "execution_count": 9,
   "id": "6e44c9cf",
   "metadata": {},
   "outputs": [],
   "source": [
    "#outra maneira de multiplicar matrizes\n",
    "arr21 = arr19 @ arr20"
   ]
  },
  {
   "cell_type": "code",
   "execution_count": 10,
   "id": "c3f1ea99",
   "metadata": {},
   "outputs": [
    {
     "name": "stdout",
     "output_type": "stream",
     "text": [
      "[[ 5 20]\n",
      " [15 46]]\n"
     ]
    }
   ],
   "source": [
    "print(arr21)"
   ]
  }
 ],
 "metadata": {
  "kernelspec": {
   "display_name": "Python 3 (ipykernel)",
   "language": "python",
   "name": "python3"
  },
  "language_info": {
   "codemirror_mode": {
    "name": "ipython",
    "version": 3
   },
   "file_extension": ".py",
   "mimetype": "text/x-python",
   "name": "python",
   "nbconvert_exporter": "python",
   "pygments_lexer": "ipython3",
   "version": "3.9.13"
  }
 },
 "nbformat": 4,
 "nbformat_minor": 5
}
